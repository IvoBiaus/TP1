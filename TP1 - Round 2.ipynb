{
 "cells": [
  {
   "cell_type": "code",
   "execution_count": 9,
   "metadata": {},
   "outputs": [],
   "source": [
    "# importacion general de librerias y de visualizacion (matplotlib y seaborn)\n",
    "import pandas as pd\n",
    "import numpy as np\n",
    "import matplotlib.pyplot as plt\n",
    "import seaborn as sns\n",
    "\n",
    "%matplotlib inline\n",
    "\n",
    "plt.style.use('default') # haciendo los graficos un poco mas bonitos en matplotlib\n",
    "#plt.rcParams['figure.figsize'] = (20, 10)\n",
    "\n",
    "sns.set(style=\"whitegrid\") # seteando tipo de grid en seaborn\n",
    "\n",
    "pd.options.display.float_format = '{:20,.2f}'.format # suprimimos la notacion cientifica en los outputs\n",
    "\n",
    "import warnings\n",
    "warnings.filterwarnings('ignore')"
   ]
  },
  {
   "cell_type": "markdown",
   "metadata": {},
   "source": [
    "## Analisis Exploratorio de Datos: Tricafone\n",
    "Realizaremos un análisis de datos sobre un conjunto de eventos de web analytics de usuarios que visitaron www.trocafone.com, su plataforma de ecommerce de Brasil. Trocafone es un side to side Marketplace para la compra y venta de dispositivos electrónicos que se encuentra actualmente operando en Brasil y Argentina.\n",
    "\n",
    "Este set de datos posee informacion de al rededor de 1000000 de eventos de Trocafone. Nuestro objetivo será realizar un análisis exploratorio sobre esa información, para intentar obtener algunos insights de de la misma."
   ]
  },
  {
   "cell_type": "code",
   "execution_count": 114,
   "metadata": {},
   "outputs": [],
   "source": [
    "eventos_2018 = pd.read_csv('./events.csv')"
   ]
  },
  {
   "cell_type": "code",
   "execution_count": 115,
   "metadata": {},
   "outputs": [
    {
     "name": "stdout",
     "output_type": "stream",
     "text": [
      "<class 'pandas.core.frame.DataFrame'>\n",
      "RangeIndex: 1011288 entries, 0 to 1011287\n",
      "Data columns (total 23 columns):\n",
      "timestamp                   1011288 non-null object\n",
      "event                       1011288 non-null object\n",
      "person                      1011288 non-null object\n",
      "url                         82756 non-null object\n",
      "sku                         563838 non-null object\n",
      "model                       564284 non-null object\n",
      "condition                   563836 non-null object\n",
      "storage                     563836 non-null object\n",
      "color                       563836 non-null object\n",
      "skus                        221699 non-null object\n",
      "search_term                 48967 non-null object\n",
      "staticpage                  3598 non-null object\n",
      "campaign_source             82796 non-null object\n",
      "search_engine               50957 non-null object\n",
      "channel                     87378 non-null object\n",
      "new_vs_returning            87378 non-null object\n",
      "city                        87378 non-null object\n",
      "region                      87378 non-null object\n",
      "country                     87378 non-null object\n",
      "device_type                 87378 non-null object\n",
      "screen_resolution           87378 non-null object\n",
      "operating_system_version    87378 non-null object\n",
      "browser_version             87378 non-null object\n",
      "dtypes: object(23)\n",
      "memory usage: 177.5+ MB\n",
      "None\n"
     ]
    }
   ],
   "source": [
    "print(eventos_2018.info())"
   ]
  },
  {
   "cell_type": "markdown",
   "metadata": {},
   "source": [
    "## Analizando propiedades especificas del set de datos\n",
    "Para poder comenzar a orientar nuestro analisis comenzaremos a analizar algunas variables que nos interesan para aplicar en nuestros analisis. Comenzaremos con los tipos de eventos.\n",
    "\n",
    "De esta forma obtenemos la cantidad de valores que hay para cada uno de los tipos de evento."
   ]
  },
  {
   "cell_type": "code",
   "execution_count": 116,
   "metadata": {},
   "outputs": [
    {
     "data": {
      "text/plain": [
       "viewed product       528931\n",
       "brand listing         98635\n",
       "visited site          87378\n",
       "ad campaign hit       82827\n",
       "generic listing       67534\n",
       "searched products     56073\n",
       "search engine hit     50957\n",
       "checkout              33735\n",
       "staticpage             3598\n",
       "conversion             1172\n",
       "lead                    448\n",
       "Name: event, dtype: int64"
      ]
     },
     "execution_count": 116,
     "metadata": {},
     "output_type": "execute_result"
    }
   ],
   "source": [
    "eventos_principales = eventos_2018['event']\n",
    "eventos_principales.value_counts()"
   ]
  },
  {
   "cell_type": "code",
   "execution_count": 117,
   "metadata": {},
   "outputs": [
    {
     "data": {
      "text/plain": [
       "0    2018-05-31 23:38:05\n",
       "1    2018-05-31 23:38:05\n",
       "2    2018-05-31 23:38:09\n",
       "3    2018-05-31 23:38:40\n",
       "4    2018-05-29 13:29:25\n",
       "Name: timestamp, dtype: object"
      ]
     },
     "execution_count": 117,
     "metadata": {},
     "output_type": "execute_result"
    }
   ],
   "source": [
    "#analizo la columna timestamp para entender su uso en el data set.\n",
    "eventos_2018['timestamp'].head()"
   ]
  },
  {
   "cell_type": "code",
   "execution_count": 118,
   "metadata": {},
   "outputs": [],
   "source": [
    "# Dado que es de tipo 'objeto' creo una nueva columna copiando la informacion de la columna 'timestamp'\n",
    "# y pasandola a tipo de dato 'datetime'.\n",
    "\n",
    "eventos_2018['event_datetime'] = pd.to_datetime(eventos_2018['timestamp'])\n",
    "# Creo una nueva columna obteniendo el mes, esto los usuaremos en visualizacion.\n",
    "eventos_2018['month'] = eventos_2018['event_datetime'].dt.month"
   ]
  },
  {
   "cell_type": "code",
   "execution_count": 119,
   "metadata": {},
   "outputs": [
    {
     "data": {
      "text/plain": [
       "5    474949\n",
       "6    281882\n",
       "4    130008\n",
       "3     77293\n",
       "2     27886\n",
       "1     19270\n",
       "Name: month, dtype: int64"
      ]
     },
     "execution_count": 119,
     "metadata": {},
     "output_type": "execute_result"
    }
   ],
   "source": [
    "eventos_2018['month'].value_counts()"
   ]
  },
  {
   "cell_type": "markdown",
   "metadata": {},
   "source": [
    "## Verificacion de Calidad de Datos\n",
    "\n",
    "Verifico la cantidad de valores nulos."
   ]
  },
  {
   "cell_type": "code",
   "execution_count": 120,
   "metadata": {},
   "outputs": [
    {
     "data": {
      "text/plain": [
       "timestamp                         0\n",
       "event                             0\n",
       "person                            0\n",
       "url                          928532\n",
       "sku                          447450\n",
       "model                        447004\n",
       "condition                    447452\n",
       "storage                      447452\n",
       "color                        447452\n",
       "skus                         789589\n",
       "search_term                  962321\n",
       "staticpage                  1007690\n",
       "campaign_source              928492\n",
       "search_engine                960331\n",
       "channel                      923910\n",
       "new_vs_returning             923910\n",
       "city                         923910\n",
       "region                       923910\n",
       "country                      923910\n",
       "device_type                  923910\n",
       "screen_resolution            923910\n",
       "operating_system_version     923910\n",
       "browser_version              923910\n",
       "event_datetime                    0\n",
       "month                             0\n",
       "dtype: int64"
      ]
     },
     "execution_count": 120,
     "metadata": {},
     "output_type": "execute_result"
    }
   ],
   "source": [
    "eventos_2018.isnull().sum()"
   ]
  },
  {
   "cell_type": "markdown",
   "metadata": {},
   "source": [
    "Se puede observar que gran parte de las columnas son en su mayoria datos nulos, sin embargo esto no es razon suficiente para descartarlas (las columnas), ya que si analisamos un poco los datos, se puede ver que no todos los eventos guardan la misma informacion.\n",
    "Por lo tanto habra que relacionar los datos, posiblemente a traves de merge  o joins de diferentes tablas."
   ]
  },
  {
   "cell_type": "markdown",
   "metadata": {},
   "source": [
    "## Linea Temporal\n",
    "\n",
    "Veo entre que fechas exactas ocurren los eventos del dataset."
   ]
  },
  {
   "cell_type": "code",
   "execution_count": 121,
   "metadata": {},
   "outputs": [
    {
     "data": {
      "text/plain": [
       "event_datetime  min   2018-01-01 07:32:26\n",
       "                max   2018-06-15 23:59:31\n",
       "Name: event_datetime, dtype: datetime64[ns]"
      ]
     },
     "execution_count": 121,
     "metadata": {},
     "output_type": "execute_result"
    }
   ],
   "source": [
    "eventos_2018['event_datetime'].agg({'event_datetime':['min','max']})"
   ]
  },
  {
   "cell_type": "markdown",
   "metadata": {},
   "source": [
    "Aca puedo ver que los eventos ocurren durante los primeros 6 meses del 2018, pero del mes 6 (Junio) solo estan los primeros 16 dias, por lo que tengo la mitad de la informacion a comparacion de los otros meses."
   ]
  },
  {
   "cell_type": "markdown",
   "metadata": {},
   "source": [
    "## Agrupamiento (Group By) para agregacion, filtrado y transformacion"
   ]
  },
  {
   "cell_type": "code",
   "execution_count": 122,
   "metadata": {},
   "outputs": [],
   "source": [
    "grouped_events_per_month = eventos_2018.groupby(['month']).agg({'event':['count']})"
   ]
  },
  {
   "cell_type": "code",
   "execution_count": 123,
   "metadata": {},
   "outputs": [
    {
     "data": {
      "text/html": [
       "<div>\n",
       "<style scoped>\n",
       "    .dataframe tbody tr th:only-of-type {\n",
       "        vertical-align: middle;\n",
       "    }\n",
       "\n",
       "    .dataframe tbody tr th {\n",
       "        vertical-align: top;\n",
       "    }\n",
       "\n",
       "    .dataframe thead tr th {\n",
       "        text-align: left;\n",
       "    }\n",
       "\n",
       "    .dataframe thead tr:last-of-type th {\n",
       "        text-align: right;\n",
       "    }\n",
       "</style>\n",
       "<table border=\"1\" class=\"dataframe\">\n",
       "  <thead>\n",
       "    <tr>\n",
       "      <th></th>\n",
       "      <th>event</th>\n",
       "    </tr>\n",
       "    <tr>\n",
       "      <th></th>\n",
       "      <th>count</th>\n",
       "    </tr>\n",
       "    <tr>\n",
       "      <th>month</th>\n",
       "      <th></th>\n",
       "    </tr>\n",
       "  </thead>\n",
       "  <tbody>\n",
       "    <tr>\n",
       "      <th>1</th>\n",
       "      <td>19270</td>\n",
       "    </tr>\n",
       "    <tr>\n",
       "      <th>2</th>\n",
       "      <td>27886</td>\n",
       "    </tr>\n",
       "    <tr>\n",
       "      <th>3</th>\n",
       "      <td>77293</td>\n",
       "    </tr>\n",
       "    <tr>\n",
       "      <th>4</th>\n",
       "      <td>130008</td>\n",
       "    </tr>\n",
       "    <tr>\n",
       "      <th>5</th>\n",
       "      <td>474949</td>\n",
       "    </tr>\n",
       "    <tr>\n",
       "      <th>6</th>\n",
       "      <td>281882</td>\n",
       "    </tr>\n",
       "  </tbody>\n",
       "</table>\n",
       "</div>"
      ],
      "text/plain": [
       "        event\n",
       "        count\n",
       "month        \n",
       "1       19270\n",
       "2       27886\n",
       "3       77293\n",
       "4      130008\n",
       "5      474949\n",
       "6      281882"
      ]
     },
     "execution_count": 123,
     "metadata": {},
     "output_type": "execute_result"
    }
   ],
   "source": [
    " grouped_events_per_month.head(20)"
   ]
  },
  {
   "cell_type": "code",
   "execution_count": 124,
   "metadata": {},
   "outputs": [],
   "source": [
    "# agrupando usando multiples columnas\n",
    "grouped_events_types_per_month = eventos_2018.groupby(['month','event']).agg({'event':['count']})"
   ]
  },
  {
   "cell_type": "code",
   "execution_count": 125,
   "metadata": {},
   "outputs": [],
   "source": [
    "# grouped_events_types_per_month.head(20)"
   ]
  },
  {
   "cell_type": "code",
   "execution_count": 126,
   "metadata": {},
   "outputs": [],
   "source": [
    "# .reset_index(inplace=True)\n",
    "# .columns = ['year', 'backers_sum', 'pledged_mean', 'pledge_sum']"
   ]
  },
  {
   "cell_type": "code",
   "execution_count": 128,
   "metadata": {},
   "outputs": [
    {
     "data": {
      "text/plain": [
       "<matplotlib.axes._subplots.AxesSubplot at 0x7fa2bd59b208>"
      ]
     },
     "execution_count": 128,
     "metadata": {},
     "output_type": "execute_result"
    },
    {
     "data": {
      "image/png": "[encoded data removed]",
      "text/plain": [
       "<Figure size 640x480 with 1 Axes>"
      ]
     },
     "metadata": {},
     "output_type": "display_data"
    }
   ],
   "source": [
    "g = eventos_2018[\"month\"].plot.hist(bins=20, color='goldenrod')\n",
    "g"
   ]
  },
  {
   "cell_type": "code",
   "execution_count": null,
   "metadata": {},
   "outputs": [],
   "source": []
  },
  {
   "cell_type": "code",
   "execution_count": null,
   "metadata": {},
   "outputs": [],
   "source": []
  }
 ],
 "metadata": {
  "kernelspec": {
   "display_name": "Python 3",
   "language": "python",
   "name": "python3"
  },
  "language_info": {
   "codemirror_mode": {
    "name": "ipython",
    "version": 3
   },
   "file_extension": ".py",
   "mimetype": "text/x-python",
   "name": "python",
   "nbconvert_exporter": "python",
   "pygments_lexer": "ipython3",
   "version": "3.6.6"
  }
 },
 "nbformat": 4,
 "nbformat_minor": 2
}
