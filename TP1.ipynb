{
 "cells": [
  {
   "cell_type": "code",
   "execution_count": 1,
   "metadata": {},
   "outputs": [],
   "source": [
    "import pandas as pd\n",
    "import numpy as np\n",
    "import matplotlib.pyplot as plt\n",
    "import seaborn as sns\n",
    "%matplotlib inline\n",
    "\n",
    "plt.style.use('default')\n",
    "\n",
    "sns.set(style='whitegrid')"
   ]
  },
  {
   "cell_type": "code",
   "execution_count": 2,
   "metadata": {},
   "outputs": [],
   "source": [
    "df = pd.read_csv('./events.csv', low_memory = False)"
   ]
  },
  {
   "cell_type": "code",
   "execution_count": 3,
   "metadata": {},
   "outputs": [],
   "source": [
    "df_clean1 = df.drop(['url','staticpage', 'city', 'country', 'operating_system_version', 'screen_resolution','browser_version'], axis = 1)"
   ]
  },
  {
   "cell_type": "code",
   "execution_count": 4,
   "metadata": {},
   "outputs": [
    {
     "data": {
      "text/plain": [
       "timestamp           1011288\n",
       "event               1011288\n",
       "person              1011288\n",
       "sku                  563838\n",
       "model                564284\n",
       "condition            563836\n",
       "storage              563836\n",
       "color                563836\n",
       "skus                 221699\n",
       "search_term           48967\n",
       "campaign_source       82796\n",
       "search_engine         50957\n",
       "channel               87378\n",
       "new_vs_returning      87378\n",
       "region                87378\n",
       "device_type           87378\n",
       "dtype: int64"
      ]
     },
     "execution_count": 4,
     "metadata": {},
     "output_type": "execute_result"
    }
   ],
   "source": [
    "df_clean1.count()"
   ]
  },
  {
   "cell_type": "markdown",
   "metadata": {},
   "source": [
    "\n",
    "Regiones con mas eventos\n",
    "Reviso que regiones son las que mas generan eventos (no filtre por ciudad porque me parecio muy poco representativo) (no filtre por paises porque es basicamente 100% brazil)"
   ]
  },
  {
   "cell_type": "code",
   "execution_count": 5,
   "metadata": {},
   "outputs": [
    {
     "data": {
      "text/plain": [
       "Text(0,0.5,'Region de origen')"
      ]
     },
     "execution_count": 5,
     "metadata": {},
     "output_type": "execute_result"
    },
    {
     "data": {
      "image/png": "[encoded data removed]",
      "text/plain": [
       "<Figure size 432x288 with 1 Axes>"
      ]
     },
     "metadata": {
      "needs_background": "light"
     },
     "output_type": "display_data"
    }
   ],
   "source": [
    "regions_vc = df_clean1['region'].value_counts().iloc[:10]\n",
    "\n",
    "regions_graf = regions_vc.plot.barh(fontsize=14)\n",
    "regions_graf.set_title(\"Eventos generados por usuarios.(Top 10)\", fontsize=18)\n",
    "regions_graf.set_xlabel(\"Cantidad de eventos\", fontsize=18)\n",
    "regions_graf.set_ylabel(\"Region de origen\", fontsize=18)"
   ]
  },
  {
   "cell_type": "markdown",
   "metadata": {},
   "source": [
    "\n",
    "Eventos que terminaron en ventas¶\n",
    "Filtre el condicion y la modelo del producto (TOP 5) Me parecio llamativo que productos en muy buen estado como los \"Nuevos\" y \"Excelentes\" tengan ventas tanto menores en comparacion con los de estado \"Bueno\""
   ]
  },
  {
   "cell_type": "code",
   "execution_count": 6,
   "metadata": {
    "scrolled": false
   },
   "outputs": [],
   "source": [
    "ventas_A = df_clean1[(df_clean1.event == 'conversion')]"
   ]
  },
  {
   "cell_type": "code",
   "execution_count": 7,
   "metadata": {},
   "outputs": [
    {
     "data": {
      "text/html": [
       "<div>\n",
       "<style scoped>\n",
       "    .dataframe tbody tr th:only-of-type {\n",
       "        vertical-align: middle;\n",
       "    }\n",
       "\n",
       "    .dataframe tbody tr th {\n",
       "        vertical-align: top;\n",
       "    }\n",
       "\n",
       "    .dataframe thead th {\n",
       "        text-align: right;\n",
       "    }\n",
       "</style>\n",
       "<table border=\"1\" class=\"dataframe\">\n",
       "  <thead>\n",
       "    <tr style=\"text-align: right;\">\n",
       "      <th></th>\n",
       "      <th>timestamp</th>\n",
       "      <th>event</th>\n",
       "      <th>person</th>\n",
       "      <th>sku</th>\n",
       "      <th>model</th>\n",
       "      <th>condition</th>\n",
       "      <th>storage</th>\n",
       "      <th>color</th>\n",
       "    </tr>\n",
       "  </thead>\n",
       "  <tbody>\n",
       "    <tr>\n",
       "      <th>220</th>\n",
       "      <td>2018-03-20 17:46:12</td>\n",
       "      <td>conversion</td>\n",
       "      <td>00204059</td>\n",
       "      <td>3084.0</td>\n",
       "      <td>Motorola Moto X2</td>\n",
       "      <td>Muito Bom</td>\n",
       "      <td>32GB</td>\n",
       "      <td>Couro Vintage</td>\n",
       "    </tr>\n",
       "    <tr>\n",
       "      <th>2282</th>\n",
       "      <td>2018-04-26 22:28:53</td>\n",
       "      <td>conversion</td>\n",
       "      <td>00c13dee</td>\n",
       "      <td>6650.0</td>\n",
       "      <td>Samsung Galaxy Core Plus Duos TV</td>\n",
       "      <td>Muito Bom</td>\n",
       "      <td>4GB</td>\n",
       "      <td>Branco</td>\n",
       "    </tr>\n",
       "    <tr>\n",
       "      <th>2547</th>\n",
       "      <td>2018-06-10 14:37:50</td>\n",
       "      <td>conversion</td>\n",
       "      <td>00fdbb4b</td>\n",
       "      <td>3348.0</td>\n",
       "      <td>Samsung Galaxy S6 Flat</td>\n",
       "      <td>Muito Bom</td>\n",
       "      <td>32GB</td>\n",
       "      <td>Branco</td>\n",
       "    </tr>\n",
       "    <tr>\n",
       "      <th>4245</th>\n",
       "      <td>2018-03-16 13:50:25</td>\n",
       "      <td>conversion</td>\n",
       "      <td>0146a9df</td>\n",
       "      <td>2694.0</td>\n",
       "      <td>iPhone 5s</td>\n",
       "      <td>Bom</td>\n",
       "      <td>32GB</td>\n",
       "      <td>Cinza espacial</td>\n",
       "    </tr>\n",
       "    <tr>\n",
       "      <th>6985</th>\n",
       "      <td>2018-02-09 22:07:07</td>\n",
       "      <td>conversion</td>\n",
       "      <td>01db2fe6</td>\n",
       "      <td>6357.0</td>\n",
       "      <td>Samsung Galaxy J5</td>\n",
       "      <td>Bom</td>\n",
       "      <td>16GB</td>\n",
       "      <td>Preto</td>\n",
       "    </tr>\n",
       "  </tbody>\n",
       "</table>\n",
       "</div>"
      ],
      "text/plain": [
       "                timestamp       event    person     sku  \\\n",
       "220   2018-03-20 17:46:12  conversion  00204059  3084.0   \n",
       "2282  2018-04-26 22:28:53  conversion  00c13dee  6650.0   \n",
       "2547  2018-06-10 14:37:50  conversion  00fdbb4b  3348.0   \n",
       "4245  2018-03-16 13:50:25  conversion  0146a9df  2694.0   \n",
       "6985  2018-02-09 22:07:07  conversion  01db2fe6  6357.0   \n",
       "\n",
       "                                 model  condition storage           color  \n",
       "220                   Motorola Moto X2  Muito Bom    32GB   Couro Vintage  \n",
       "2282  Samsung Galaxy Core Plus Duos TV  Muito Bom     4GB          Branco  \n",
       "2547            Samsung Galaxy S6 Flat  Muito Bom    32GB          Branco  \n",
       "4245                         iPhone 5s        Bom    32GB  Cinza espacial  \n",
       "6985                 Samsung Galaxy J5        Bom    16GB           Preto  "
      ]
     },
     "execution_count": 7,
     "metadata": {},
     "output_type": "execute_result"
    }
   ],
   "source": [
    "ventas_A = ventas_A.dropna(axis = 1, how = 'all')\n",
    "model_vc = ventas_A['model'].value_counts().iloc[:5]\n",
    "condition_vc = ventas_A['condition'].value_counts()\n",
    "\n",
    "ventas_A.head()"
   ]
  },
  {
   "cell_type": "code",
   "execution_count": 8,
   "metadata": {},
   "outputs": [
    {
     "data": {
      "text/plain": [
       "Text(0,0.5,'Modelo')"
      ]
     },
     "execution_count": 8,
     "metadata": {},
     "output_type": "execute_result"
    },
    {
     "data": {
      "image/png": "[encoded data removed]",
      "text/plain": [
       "<Figure size 432x288 with 1 Axes>"
      ]
     },
     "metadata": {
      "needs_background": "light"
     },
     "output_type": "display_data"
    }
   ],
   "source": [
    "models_graf = sns.barplot(x=model_vc.values, y=model_vc.index)\n",
    "models_graf.set_title(\"Ventas por Modelo (TOP 5)\", fontsize=18)\n",
    "models_graf.set_xlabel(\"Unidades vendidas\", fontsize=18)\n",
    "models_graf.set_ylabel(\"Modelo\", fontsize=18)"
   ]
  },
  {
   "cell_type": "code",
   "execution_count": 9,
   "metadata": {},
   "outputs": [
    {
     "data": {
      "text/plain": [
       "Text(0,0.5,'Condicion')"
      ]
     },
     "execution_count": 9,
     "metadata": {},
     "output_type": "execute_result"
    },
    {
     "data": {
      "image/png": "[encoded data removed]",
      "text/plain": [
       "<Figure size 432x288 with 1 Axes>"
      ]
     },
     "metadata": {
      "needs_background": "light"
     },
     "output_type": "display_data"
    }
   ],
   "source": [
    "condition_graf = sns.barplot(x=condition_vc.values, y=condition_vc.index)\n",
    "condition_graf.set_title(\"Ventas por Calidad\", fontsize=18)\n",
    "condition_graf.set_xlabel(\"Unidades vendidas\", fontsize=18)\n",
    "condition_graf.set_ylabel(\"Condicion\", fontsize=18)"
   ]
  },
  {
   "cell_type": "code",
   "execution_count": 10,
   "metadata": {},
   "outputs": [],
   "source": [
    "df_clean2 = df[['timestamp','person','event','sku', 'url', 'model', 'condition', 'storage','search_term','campaign_source','channel','new_vs_returning','region','device_type']]"
   ]
  },
  {
   "cell_type": "markdown",
   "metadata": {},
   "source": [
    "\n",
    "Modelos mas visitados (TOP 10)\n",
    "Busco cuales son los modelos mas visitados, para ver si hay correlacion con las compras, pedidos (leads), y los productos agregados a carritos/posibles ventas (checkouts)"
   ]
  },
  {
   "cell_type": "code",
   "execution_count": 11,
   "metadata": {},
   "outputs": [
    {
     "data": {
      "text/html": [
       "<div>\n",
       "<style scoped>\n",
       "    .dataframe tbody tr th:only-of-type {\n",
       "        vertical-align: middle;\n",
       "    }\n",
       "\n",
       "    .dataframe tbody tr th {\n",
       "        vertical-align: top;\n",
       "    }\n",
       "\n",
       "    .dataframe thead th {\n",
       "        text-align: right;\n",
       "    }\n",
       "</style>\n",
       "<table border=\"1\" class=\"dataframe\">\n",
       "  <thead>\n",
       "    <tr style=\"text-align: right;\">\n",
       "      <th></th>\n",
       "      <th>timestamp</th>\n",
       "      <th>person</th>\n",
       "      <th>event</th>\n",
       "      <th>sku</th>\n",
       "      <th>model</th>\n",
       "      <th>condition</th>\n",
       "      <th>storage</th>\n",
       "    </tr>\n",
       "  </thead>\n",
       "  <tbody>\n",
       "    <tr>\n",
       "      <th>2</th>\n",
       "      <td>2018-05-31 23:38:09</td>\n",
       "      <td>0004b0a2</td>\n",
       "      <td>viewed product</td>\n",
       "      <td>2694.0</td>\n",
       "      <td>iPhone 5s</td>\n",
       "      <td>Bom</td>\n",
       "      <td>32GB</td>\n",
       "    </tr>\n",
       "    <tr>\n",
       "      <th>4</th>\n",
       "      <td>2018-05-29 13:29:25</td>\n",
       "      <td>0006a21a</td>\n",
       "      <td>viewed product</td>\n",
       "      <td>15338.0</td>\n",
       "      <td>Samsung Galaxy S8</td>\n",
       "      <td>Bom</td>\n",
       "      <td>64GB</td>\n",
       "    </tr>\n",
       "    <tr>\n",
       "      <th>13</th>\n",
       "      <td>2018-04-09 20:13:14</td>\n",
       "      <td>000a54b2</td>\n",
       "      <td>viewed product</td>\n",
       "      <td>12661.0</td>\n",
       "      <td>Motorola Moto Z Play</td>\n",
       "      <td>Muito Bom</td>\n",
       "      <td>32GB</td>\n",
       "    </tr>\n",
       "    <tr>\n",
       "      <th>22</th>\n",
       "      <td>2018-05-24 11:27:47</td>\n",
       "      <td>000a54b2</td>\n",
       "      <td>viewed product</td>\n",
       "      <td>10254.0</td>\n",
       "      <td>iPhone 7 Plus</td>\n",
       "      <td>Excelente</td>\n",
       "      <td>256GB</td>\n",
       "    </tr>\n",
       "    <tr>\n",
       "      <th>26</th>\n",
       "      <td>2018-05-24 11:28:59</td>\n",
       "      <td>000a54b2</td>\n",
       "      <td>viewed product</td>\n",
       "      <td>6581.0</td>\n",
       "      <td>iPhone 6S</td>\n",
       "      <td>Bom</td>\n",
       "      <td>16GB</td>\n",
       "    </tr>\n",
       "  </tbody>\n",
       "</table>\n",
       "</div>"
      ],
      "text/plain": [
       "              timestamp    person           event      sku  \\\n",
       "2   2018-05-31 23:38:09  0004b0a2  viewed product   2694.0   \n",
       "4   2018-05-29 13:29:25  0006a21a  viewed product  15338.0   \n",
       "13  2018-04-09 20:13:14  000a54b2  viewed product  12661.0   \n",
       "22  2018-05-24 11:27:47  000a54b2  viewed product  10254.0   \n",
       "26  2018-05-24 11:28:59  000a54b2  viewed product   6581.0   \n",
       "\n",
       "                   model  condition storage  \n",
       "2              iPhone 5s        Bom    32GB  \n",
       "4      Samsung Galaxy S8        Bom    64GB  \n",
       "13  Motorola Moto Z Play  Muito Bom    32GB  \n",
       "22         iPhone 7 Plus  Excelente   256GB  \n",
       "26             iPhone 6S        Bom    16GB  "
      ]
     },
     "execution_count": 11,
     "metadata": {},
     "output_type": "execute_result"
    }
   ],
   "source": [
    "viewed = df_clean2[(df_clean2.event == 'viewed product')]\n",
    "viewed = viewed.dropna(axis = 1, how = 'all')\n",
    "viewed.head()"
   ]
  },
  {
   "cell_type": "code",
   "execution_count": 48,
   "metadata": {},
   "outputs": [
    {
     "data": {
      "text/plain": [
       "Text(0,0.5,'Modelo')"
      ]
     },
     "execution_count": 48,
     "metadata": {},
     "output_type": "execute_result"
    },
    {
     "data": {
      "image/png": "[encoded data removed]",
      "text/plain": [
       "<Figure size 432x288 with 1 Axes>"
      ]
     },
     "metadata": {
      "needs_background": "light"
     },
     "output_type": "display_data"
    }
   ],
   "source": [
    "viewed_grouped = viewed.groupby(['model']).count().sort_values(['timestamp'], ascending=False).iloc[:10,:1]\n",
    "viewed_grouped.columns = ['ammount']\n",
    "viewed_serie = viewed_grouped.iloc[:,0]\n",
    "\n",
    "viewed_graf = viewed_serie.plot.barh(fontsize=14)\n",
    "viewed_graf.set_title(\"Modelos mas Visitados (TOP 10)\", fontsize=18)\n",
    "viewed_graf.set_xlabel(\"Cantidad de visitas\", fontsize=18)\n",
    "viewed_graf.set_ylabel(\"Modelo\", fontsize=18)"
   ]
  },
  {
   "cell_type": "markdown",
   "metadata": {},
   "source": [
    "Modelos mas deseados(leads) (TOP 10)"
   ]
  },
  {
   "cell_type": "code",
   "execution_count": 13,
   "metadata": {},
   "outputs": [
    {
     "data": {
      "text/html": [
       "<div>\n",
       "<style scoped>\n",
       "    .dataframe tbody tr th:only-of-type {\n",
       "        vertical-align: middle;\n",
       "    }\n",
       "\n",
       "    .dataframe tbody tr th {\n",
       "        vertical-align: top;\n",
       "    }\n",
       "\n",
       "    .dataframe thead th {\n",
       "        text-align: right;\n",
       "    }\n",
       "</style>\n",
       "<table border=\"1\" class=\"dataframe\">\n",
       "  <thead>\n",
       "    <tr style=\"text-align: right;\">\n",
       "      <th></th>\n",
       "      <th>timestamp</th>\n",
       "      <th>person</th>\n",
       "      <th>event</th>\n",
       "      <th>model</th>\n",
       "    </tr>\n",
       "  </thead>\n",
       "  <tbody>\n",
       "    <tr>\n",
       "      <th>3248</th>\n",
       "      <td>2018-04-17 22:11:19</td>\n",
       "      <td>01139919</td>\n",
       "      <td>lead</td>\n",
       "      <td>Samsung Galaxy On 7</td>\n",
       "    </tr>\n",
       "    <tr>\n",
       "      <th>6636</th>\n",
       "      <td>2018-04-07 11:37:11</td>\n",
       "      <td>01bca043</td>\n",
       "      <td>lead</td>\n",
       "      <td>iPhone 6 Plus</td>\n",
       "    </tr>\n",
       "    <tr>\n",
       "      <th>7036</th>\n",
       "      <td>2018-02-12 17:23:30</td>\n",
       "      <td>01db2fe6</td>\n",
       "      <td>lead</td>\n",
       "      <td>Samsung Galaxy J5</td>\n",
       "    </tr>\n",
       "    <tr>\n",
       "      <th>13041</th>\n",
       "      <td>2018-03-08 12:39:30</td>\n",
       "      <td>03767f8e</td>\n",
       "      <td>lead</td>\n",
       "      <td>iPhone 6</td>\n",
       "    </tr>\n",
       "    <tr>\n",
       "      <th>14203</th>\n",
       "      <td>2018-01-08 14:04:07</td>\n",
       "      <td>03bdcd81</td>\n",
       "      <td>lead</td>\n",
       "      <td>Samsung Galaxy S7 Edge</td>\n",
       "    </tr>\n",
       "  </tbody>\n",
       "</table>\n",
       "</div>"
      ],
      "text/plain": [
       "                 timestamp    person event                   model\n",
       "3248   2018-04-17 22:11:19  01139919  lead     Samsung Galaxy On 7\n",
       "6636   2018-04-07 11:37:11  01bca043  lead           iPhone 6 Plus\n",
       "7036   2018-02-12 17:23:30  01db2fe6  lead       Samsung Galaxy J5\n",
       "13041  2018-03-08 12:39:30  03767f8e  lead                iPhone 6\n",
       "14203  2018-01-08 14:04:07  03bdcd81  lead  Samsung Galaxy S7 Edge"
      ]
     },
     "execution_count": 13,
     "metadata": {},
     "output_type": "execute_result"
    }
   ],
   "source": [
    "leads = df_clean2[(df_clean2.event == 'lead')]\n",
    "leads = leads.dropna(axis = 1, how = 'all')\n",
    "leads.head()"
   ]
  },
  {
   "cell_type": "code",
   "execution_count": 14,
   "metadata": {},
   "outputs": [
    {
     "data": {
      "text/plain": [
       "Text(0,0.5,'Modelo')"
      ]
     },
     "execution_count": 14,
     "metadata": {},
     "output_type": "execute_result"
    },
    {
     "data": {
      "image/png": "[encoded data removed]",
      "text/plain": [
       "<Figure size 432x288 with 1 Axes>"
      ]
     },
     "metadata": {
      "needs_background": "light"
     },
     "output_type": "display_data"
    }
   ],
   "source": [
    "leads_grouped = leads.groupby(['model']).count().sort_values(['timestamp'], ascending=False).iloc[:10,:1]\n",
    "leads_grouped.columns = ['ammount']\n",
    "leads_serie = leads_grouped.iloc[:,0]\n",
    "\n",
    "leads_graf = leads_serie.plot.barh(fontsize=14)\n",
    "leads_graf.set_title(\"Leads por Modelo (TOP 10)\", fontsize=18)\n",
    "leads_graf.set_xlabel(\"Cantidad de leads\", fontsize=18)\n",
    "leads_graf.set_ylabel(\"Modelo\", fontsize=18)"
   ]
  },
  {
   "cell_type": "markdown",
   "metadata": {},
   "source": [
    "Modelos agregados a checkout (TOP 10)"
   ]
  },
  {
   "cell_type": "code",
   "execution_count": 15,
   "metadata": {},
   "outputs": [
    {
     "data": {
      "text/html": [
       "<div>\n",
       "<style scoped>\n",
       "    .dataframe tbody tr th:only-of-type {\n",
       "        vertical-align: middle;\n",
       "    }\n",
       "\n",
       "    .dataframe tbody tr th {\n",
       "        vertical-align: top;\n",
       "    }\n",
       "\n",
       "    .dataframe thead th {\n",
       "        text-align: right;\n",
       "    }\n",
       "</style>\n",
       "<table border=\"1\" class=\"dataframe\">\n",
       "  <thead>\n",
       "    <tr style=\"text-align: right;\">\n",
       "      <th></th>\n",
       "      <th>timestamp</th>\n",
       "      <th>person</th>\n",
       "      <th>event</th>\n",
       "      <th>sku</th>\n",
       "      <th>model</th>\n",
       "      <th>condition</th>\n",
       "      <th>storage</th>\n",
       "    </tr>\n",
       "  </thead>\n",
       "  <tbody>\n",
       "    <tr>\n",
       "      <th>3</th>\n",
       "      <td>2018-05-31 23:38:40</td>\n",
       "      <td>0004b0a2</td>\n",
       "      <td>checkout</td>\n",
       "      <td>2694.0</td>\n",
       "      <td>iPhone 5s</td>\n",
       "      <td>Bom</td>\n",
       "      <td>32GB</td>\n",
       "    </tr>\n",
       "    <tr>\n",
       "      <th>7</th>\n",
       "      <td>2018-05-29 13:29:35</td>\n",
       "      <td>0006a21a</td>\n",
       "      <td>checkout</td>\n",
       "      <td>15338.0</td>\n",
       "      <td>Samsung Galaxy S8</td>\n",
       "      <td>Bom</td>\n",
       "      <td>64GB</td>\n",
       "    </tr>\n",
       "    <tr>\n",
       "      <th>44</th>\n",
       "      <td>2018-05-24 11:34:32</td>\n",
       "      <td>000a54b2</td>\n",
       "      <td>checkout</td>\n",
       "      <td>12660.0</td>\n",
       "      <td>Motorola Moto Z Play</td>\n",
       "      <td>Bom</td>\n",
       "      <td>32GB</td>\n",
       "    </tr>\n",
       "    <tr>\n",
       "      <th>85</th>\n",
       "      <td>2018-04-06 05:14:58</td>\n",
       "      <td>00184bf9</td>\n",
       "      <td>checkout</td>\n",
       "      <td>6355.0</td>\n",
       "      <td>Samsung Galaxy J5</td>\n",
       "      <td>Excelente</td>\n",
       "      <td>16GB</td>\n",
       "    </tr>\n",
       "    <tr>\n",
       "      <th>86</th>\n",
       "      <td>2018-04-06 05:18:15</td>\n",
       "      <td>00184bf9</td>\n",
       "      <td>checkout</td>\n",
       "      <td>6355.0</td>\n",
       "      <td>Samsung Galaxy J5</td>\n",
       "      <td>Excelente</td>\n",
       "      <td>16GB</td>\n",
       "    </tr>\n",
       "  </tbody>\n",
       "</table>\n",
       "</div>"
      ],
      "text/plain": [
       "              timestamp    person     event      sku                 model  \\\n",
       "3   2018-05-31 23:38:40  0004b0a2  checkout   2694.0             iPhone 5s   \n",
       "7   2018-05-29 13:29:35  0006a21a  checkout  15338.0     Samsung Galaxy S8   \n",
       "44  2018-05-24 11:34:32  000a54b2  checkout  12660.0  Motorola Moto Z Play   \n",
       "85  2018-04-06 05:14:58  00184bf9  checkout   6355.0     Samsung Galaxy J5   \n",
       "86  2018-04-06 05:18:15  00184bf9  checkout   6355.0     Samsung Galaxy J5   \n",
       "\n",
       "    condition storage  \n",
       "3         Bom    32GB  \n",
       "7         Bom    64GB  \n",
       "44        Bom    32GB  \n",
       "85  Excelente    16GB  \n",
       "86  Excelente    16GB  "
      ]
     },
     "execution_count": 15,
     "metadata": {},
     "output_type": "execute_result"
    }
   ],
   "source": [
    "checkouts = df_clean2[(df_clean2.event == 'checkout')]\n",
    "checkouts = checkouts.dropna(axis = 1, how = 'all')\n",
    "checkouts.head()"
   ]
  },
  {
   "cell_type": "code",
   "execution_count": 16,
   "metadata": {},
   "outputs": [
    {
     "data": {
      "text/plain": [
       "Text(0,0.5,'Modelo')"
      ]
     },
     "execution_count": 16,
     "metadata": {},
     "output_type": "execute_result"
    },
    {
     "data": {
      "image/png": "[encoded data removed]",
      "text/plain": [
       "<Figure size 432x288 with 1 Axes>"
      ]
     },
     "metadata": {
      "needs_background": "light"
     },
     "output_type": "display_data"
    }
   ],
   "source": [
    "checkouts_grouped = checkouts.groupby(['model']).count().sort_values(['timestamp'], ascending=False).iloc[:10,:1]\n",
    "checkouts_grouped.columns = ['ammount']\n",
    "\n",
    "checkouts_serie = checkouts_grouped.iloc[:,0]\n",
    "\n",
    "checkouts_graf = checkouts_serie.plot.barh(fontsize=14)\n",
    "checkouts_graf.set_title(\"Checkouts por Modelo (TOP 10)\", fontsize=18)\n",
    "checkouts_graf.set_xlabel(\"Cantidad de checkouts\", fontsize=18)\n",
    "checkouts_graf.set_ylabel(\"Modelo\", fontsize=18)"
   ]
  },
  {
   "cell_type": "markdown",
   "metadata": {},
   "source": [
    "Analisis de las campañas de Marketing"
   ]
  },
  {
   "cell_type": "code",
   "execution_count": 17,
   "metadata": {},
   "outputs": [
    {
     "data": {
      "text/html": [
       "<div>\n",
       "<style scoped>\n",
       "    .dataframe tbody tr th:only-of-type {\n",
       "        vertical-align: middle;\n",
       "    }\n",
       "\n",
       "    .dataframe tbody tr th {\n",
       "        vertical-align: top;\n",
       "    }\n",
       "\n",
       "    .dataframe thead th {\n",
       "        text-align: right;\n",
       "    }\n",
       "</style>\n",
       "<table border=\"1\" class=\"dataframe\">\n",
       "  <thead>\n",
       "    <tr style=\"text-align: right;\">\n",
       "      <th></th>\n",
       "      <th>timestamp</th>\n",
       "      <th>person</th>\n",
       "      <th>event</th>\n",
       "      <th>url</th>\n",
       "      <th>campaign_source</th>\n",
       "    </tr>\n",
       "  </thead>\n",
       "  <tbody>\n",
       "    <tr>\n",
       "      <th>0</th>\n",
       "      <td>2018-05-31 23:38:05</td>\n",
       "      <td>0004b0a2</td>\n",
       "      <td>ad campaign hit</td>\n",
       "      <td>/comprar/iphone/iphone-5s</td>\n",
       "      <td>criteo</td>\n",
       "    </tr>\n",
       "    <tr>\n",
       "      <th>6</th>\n",
       "      <td>2018-05-29 13:29:27</td>\n",
       "      <td>0006a21a</td>\n",
       "      <td>ad campaign hit</td>\n",
       "      <td>/comprar/samsung/galaxy-s8</td>\n",
       "      <td>criteo</td>\n",
       "    </tr>\n",
       "    <tr>\n",
       "      <th>11</th>\n",
       "      <td>2018-04-09 20:12:31</td>\n",
       "      <td>000a54b2</td>\n",
       "      <td>ad campaign hit</td>\n",
       "      <td>/</td>\n",
       "      <td>google</td>\n",
       "    </tr>\n",
       "    <tr>\n",
       "      <th>15</th>\n",
       "      <td>2018-05-24 11:21:07</td>\n",
       "      <td>000a54b2</td>\n",
       "      <td>ad campaign hit</td>\n",
       "      <td>/</td>\n",
       "      <td>google</td>\n",
       "    </tr>\n",
       "    <tr>\n",
       "      <th>99</th>\n",
       "      <td>2018-05-17 00:08:56</td>\n",
       "      <td>0019c395</td>\n",
       "      <td>ad campaign hit</td>\n",
       "      <td>/comprar/samsung/galaxy-j5</td>\n",
       "      <td>google</td>\n",
       "    </tr>\n",
       "  </tbody>\n",
       "</table>\n",
       "</div>"
      ],
      "text/plain": [
       "              timestamp    person            event  \\\n",
       "0   2018-05-31 23:38:05  0004b0a2  ad campaign hit   \n",
       "6   2018-05-29 13:29:27  0006a21a  ad campaign hit   \n",
       "11  2018-04-09 20:12:31  000a54b2  ad campaign hit   \n",
       "15  2018-05-24 11:21:07  000a54b2  ad campaign hit   \n",
       "99  2018-05-17 00:08:56  0019c395  ad campaign hit   \n",
       "\n",
       "                           url campaign_source  \n",
       "0    /comprar/iphone/iphone-5s          criteo  \n",
       "6   /comprar/samsung/galaxy-s8          criteo  \n",
       "11                           /          google  \n",
       "15                           /          google  \n",
       "99  /comprar/samsung/galaxy-j5          google  "
      ]
     },
     "execution_count": 17,
     "metadata": {},
     "output_type": "execute_result"
    }
   ],
   "source": [
    "ad_hit = df_clean2[(df_clean2.event == 'ad campaign hit')]\n",
    "ad_hit = ad_hit.dropna(axis = 1, how = 'all')\n",
    "ad_hit.head()"
   ]
  },
  {
   "cell_type": "code",
   "execution_count": 18,
   "metadata": {},
   "outputs": [
    {
     "data": {
      "text/plain": [
       "Text(0,0.5,'Fuente de publicidad')"
      ]
     },
     "execution_count": 18,
     "metadata": {},
     "output_type": "execute_result"
    },
    {
     "data": {
      "image/png": "[encoded data removed]",
      "text/plain": [
       "<Figure size 432x288 with 1 Axes>"
      ]
     },
     "metadata": {
      "needs_background": "light"
     },
     "output_type": "display_data"
    }
   ],
   "source": [
    "ad_grouped = ad_hit.groupby(['campaign_source']).count().sort_values(['timestamp'] , ascending = False).iloc[:5,:1]\n",
    "ad_grouped.columns = ['eventos']\n",
    "ad_grouped_graf = ad_grouped.plot.barh(fontsize=14)\n",
    "\n",
    "\n",
    "ad_grouped_graf.set_title(\"Eventos generados por ads\", fontsize=18)\n",
    "ad_grouped_graf.set_xlabel(\"Cantidad de eventos\", fontsize=18)\n",
    "ad_grouped_graf.set_ylabel(\"Fuente de publicidad\", fontsize=18)"
   ]
  },
  {
   "cell_type": "markdown",
   "metadata": {},
   "source": [
    "# Correlacion de entrada por ad vs venta de producto\n",
    "\n",
    "Busco una correlacion entre las entradas de usuarios a travez de ads y la venta del producto por el que entraron. Asi tener una mejor idea de que ad devuelve mejor"
   ]
  },
  {
   "cell_type": "code",
   "execution_count": 19,
   "metadata": {},
   "outputs": [
    {
     "data": {
      "text/html": [
       "<div>\n",
       "<style scoped>\n",
       "    .dataframe tbody tr th:only-of-type {\n",
       "        vertical-align: middle;\n",
       "    }\n",
       "\n",
       "    .dataframe tbody tr th {\n",
       "        vertical-align: top;\n",
       "    }\n",
       "\n",
       "    .dataframe thead th {\n",
       "        text-align: right;\n",
       "    }\n",
       "</style>\n",
       "<table border=\"1\" class=\"dataframe\">\n",
       "  <thead>\n",
       "    <tr style=\"text-align: right;\">\n",
       "      <th></th>\n",
       "      <th>timestamp</th>\n",
       "      <th>event</th>\n",
       "      <th>person</th>\n",
       "      <th>url</th>\n",
       "      <th>sku</th>\n",
       "      <th>model</th>\n",
       "      <th>skus</th>\n",
       "      <th>campaign_source</th>\n",
       "    </tr>\n",
       "  </thead>\n",
       "  <tbody>\n",
       "    <tr>\n",
       "      <th>0</th>\n",
       "      <td>2018-05-31 23:38:05</td>\n",
       "      <td>ad campaign hit</td>\n",
       "      <td>0004b0a2</td>\n",
       "      <td>/comprar/iphone/iphone-5s</td>\n",
       "      <td>NaN</td>\n",
       "      <td>NaN</td>\n",
       "      <td>NaN</td>\n",
       "      <td>criteo</td>\n",
       "    </tr>\n",
       "    <tr>\n",
       "      <th>1</th>\n",
       "      <td>2018-05-31 23:38:05</td>\n",
       "      <td>visited site</td>\n",
       "      <td>0004b0a2</td>\n",
       "      <td>NaN</td>\n",
       "      <td>NaN</td>\n",
       "      <td>NaN</td>\n",
       "      <td>NaN</td>\n",
       "      <td>NaN</td>\n",
       "    </tr>\n",
       "    <tr>\n",
       "      <th>2</th>\n",
       "      <td>2018-05-31 23:38:09</td>\n",
       "      <td>viewed product</td>\n",
       "      <td>0004b0a2</td>\n",
       "      <td>NaN</td>\n",
       "      <td>2694.0</td>\n",
       "      <td>iPhone 5s</td>\n",
       "      <td>NaN</td>\n",
       "      <td>NaN</td>\n",
       "    </tr>\n",
       "    <tr>\n",
       "      <th>3</th>\n",
       "      <td>2018-05-31 23:38:40</td>\n",
       "      <td>checkout</td>\n",
       "      <td>0004b0a2</td>\n",
       "      <td>NaN</td>\n",
       "      <td>2694.0</td>\n",
       "      <td>iPhone 5s</td>\n",
       "      <td>NaN</td>\n",
       "      <td>NaN</td>\n",
       "    </tr>\n",
       "    <tr>\n",
       "      <th>4</th>\n",
       "      <td>2018-05-29 13:29:25</td>\n",
       "      <td>viewed product</td>\n",
       "      <td>0006a21a</td>\n",
       "      <td>NaN</td>\n",
       "      <td>15338.0</td>\n",
       "      <td>Samsung Galaxy S8</td>\n",
       "      <td>NaN</td>\n",
       "      <td>NaN</td>\n",
       "    </tr>\n",
       "  </tbody>\n",
       "</table>\n",
       "</div>"
      ],
      "text/plain": [
       "             timestamp            event    person                        url  \\\n",
       "0  2018-05-31 23:38:05  ad campaign hit  0004b0a2  /comprar/iphone/iphone-5s   \n",
       "1  2018-05-31 23:38:05     visited site  0004b0a2                        NaN   \n",
       "2  2018-05-31 23:38:09   viewed product  0004b0a2                        NaN   \n",
       "3  2018-05-31 23:38:40         checkout  0004b0a2                        NaN   \n",
       "4  2018-05-29 13:29:25   viewed product  0006a21a                        NaN   \n",
       "\n",
       "       sku              model skus campaign_source  \n",
       "0      NaN                NaN  NaN          criteo  \n",
       "1      NaN                NaN  NaN             NaN  \n",
       "2   2694.0          iPhone 5s  NaN             NaN  \n",
       "3   2694.0          iPhone 5s  NaN             NaN  \n",
       "4  15338.0  Samsung Galaxy S8  NaN             NaN  "
      ]
     },
     "execution_count": 19,
     "metadata": {},
     "output_type": "execute_result"
    }
   ],
   "source": [
    "### Filtro el las columnas del DF para obtener datos relacionados al marketing\n",
    "\n",
    "marketing = df.iloc[:,:13]\n",
    "marketing = marketing.drop(['condition','storage','color','search_term','staticpage'],axis = 1)\n",
    "marketing.head()"
   ]
  },
  {
   "cell_type": "code",
   "execution_count": 20,
   "metadata": {},
   "outputs": [
    {
     "data": {
      "text/html": [
       "<div>\n",
       "<style scoped>\n",
       "    .dataframe tbody tr th:only-of-type {\n",
       "        vertical-align: middle;\n",
       "    }\n",
       "\n",
       "    .dataframe tbody tr th {\n",
       "        vertical-align: top;\n",
       "    }\n",
       "\n",
       "    .dataframe thead th {\n",
       "        text-align: right;\n",
       "    }\n",
       "</style>\n",
       "<table border=\"1\" class=\"dataframe\">\n",
       "  <thead>\n",
       "    <tr style=\"text-align: right;\">\n",
       "      <th></th>\n",
       "      <th></th>\n",
       "      <th></th>\n",
       "    </tr>\n",
       "    <tr>\n",
       "      <th>person</th>\n",
       "      <th>brand</th>\n",
       "      <th>campaign_source</th>\n",
       "    </tr>\n",
       "  </thead>\n",
       "  <tbody>\n",
       "    <tr>\n",
       "      <th>ffffac8a</th>\n",
       "      <th>samsung</th>\n",
       "      <th>criteo</th>\n",
       "    </tr>\n",
       "    <tr>\n",
       "      <th>fff99b85</th>\n",
       "      <th>iphone</th>\n",
       "      <th>google</th>\n",
       "    </tr>\n",
       "    <tr>\n",
       "      <th>fff60213</th>\n",
       "      <th>samsung</th>\n",
       "      <th>google</th>\n",
       "    </tr>\n",
       "    <tr>\n",
       "      <th rowspan=\"2\" valign=\"top\">fff568f7</th>\n",
       "      <th>samsung</th>\n",
       "      <th>google</th>\n",
       "    </tr>\n",
       "    <tr>\n",
       "      <th>iphone</th>\n",
       "      <th>criteo</th>\n",
       "    </tr>\n",
       "  </tbody>\n",
       "</table>\n",
       "</div>"
      ],
      "text/plain": [
       "Empty DataFrame\n",
       "Columns: []\n",
       "Index: [(ffffac8a, samsung, criteo), (fff99b85, iphone, google), (fff60213, samsung, google), (fff568f7, samsung, google), (fff568f7, iphone, criteo)]"
      ]
     },
     "execution_count": 20,
     "metadata": {},
     "output_type": "execute_result"
    }
   ],
   "source": [
    "### Filtro por publicidades que hayan dirigido al usuario a la compra de algun producto.\n",
    "### Organizo la informacion en orden que pueda ver por cada usuario, las marcas de \n",
    "### celular visitadas y a travez de que fuene de publicidad proviene.\n",
    "\n",
    "ads_hits = marketing[marketing['campaign_source'].notna()]\n",
    "ads_hits = ads_hits[(ads_hits['url'] != '/') & (ads_hits['url'] != '/comprar') ]\n",
    "ads_hits['url'] = ads_hits['url'].str[9:]\n",
    "ads_hits['url'] = ads_hits['url'].str.partition('/').iloc[:,:1]\n",
    "ads_hits = ads_hits.dropna(how = 'all', axis = 1).drop(['event'],axis  =1)\n",
    "ads_hits = ads_hits.rename(index=str, columns={\"url\": \"brand\"})\n",
    "ads_hits = ads_hits.groupby(['person', 'brand','campaign_source']).count().iloc[:,:0]\n",
    "ads_hits = ads_hits.sort_values(['person'],ascending = False)\n",
    "\n",
    "ads_hits.head()"
   ]
  },
  {
   "cell_type": "code",
   "execution_count": 21,
   "metadata": {},
   "outputs": [
    {
     "data": {
      "text/html": [
       "<div>\n",
       "<style scoped>\n",
       "    .dataframe tbody tr th:only-of-type {\n",
       "        vertical-align: middle;\n",
       "    }\n",
       "\n",
       "    .dataframe tbody tr th {\n",
       "        vertical-align: top;\n",
       "    }\n",
       "\n",
       "    .dataframe thead th {\n",
       "        text-align: right;\n",
       "    }\n",
       "</style>\n",
       "<table border=\"1\" class=\"dataframe\">\n",
       "  <thead>\n",
       "    <tr style=\"text-align: right;\">\n",
       "      <th></th>\n",
       "      <th></th>\n",
       "      <th>ammount</th>\n",
       "    </tr>\n",
       "    <tr>\n",
       "      <th>person</th>\n",
       "      <th>brand</th>\n",
       "      <th></th>\n",
       "    </tr>\n",
       "  </thead>\n",
       "  <tbody>\n",
       "    <tr>\n",
       "      <th>4200bdee</th>\n",
       "      <th>Samsung</th>\n",
       "      <td>12</td>\n",
       "    </tr>\n",
       "    <tr>\n",
       "      <th>252adec6</th>\n",
       "      <th>Motorola</th>\n",
       "      <td>12</td>\n",
       "    </tr>\n",
       "    <tr>\n",
       "      <th>a0d4baef</th>\n",
       "      <th>Samsung</th>\n",
       "      <td>11</td>\n",
       "    </tr>\n",
       "    <tr>\n",
       "      <th>ba325a6b</th>\n",
       "      <th>Samsung</th>\n",
       "      <td>10</td>\n",
       "    </tr>\n",
       "    <tr>\n",
       "      <th>a96e304b</th>\n",
       "      <th>iPhone</th>\n",
       "      <td>8</td>\n",
       "    </tr>\n",
       "  </tbody>\n",
       "</table>\n",
       "</div>"
      ],
      "text/plain": [
       "                   ammount\n",
       "person   brand            \n",
       "4200bdee Samsung        12\n",
       "252adec6 Motorola       12\n",
       "a0d4baef Samsung        11\n",
       "ba325a6b Samsung        10\n",
       "a96e304b iPhone          8"
      ]
     },
     "execution_count": 21,
     "metadata": {},
     "output_type": "execute_result"
    }
   ],
   "source": [
    "### FIltro las ventas por usuario, de manera de poder ver facilmente la cantidad de productos \n",
    "### comprados por el mismo, organizados por marca.\n",
    "\n",
    "ventas = marketing[marketing['event'] == 'conversion']\n",
    "ventas = ventas.drop(['event','sku','url','skus','campaign_source'], axis = 1)\n",
    "ventas['brand'] = ventas['model'].str.partition(' ').iloc[:,:1]\n",
    "ventas = ventas.drop(['model'],axis = 1)\n",
    "ventas = ventas.groupby(['person','brand']).count()\n",
    "ventas.columns = ['ammount']\n",
    "ventas = ventas.sort_values(['ammount'],ascending = False)\n",
    "\n",
    "ventas.head()"
   ]
  },
  {
   "cell_type": "code",
   "execution_count": 22,
   "metadata": {},
   "outputs": [],
   "source": [
    "ads = ads_hits.reset_index()\n",
    "ventas_df = ventas.reset_index()"
   ]
  },
  {
   "cell_type": "code",
   "execution_count": 23,
   "metadata": {},
   "outputs": [],
   "source": [
    "### Hago un lowercase a la columna de las marcas para poder comparar correctamente contra \n",
    "### la tabla de las publicidades\n",
    "\n",
    "ventas_df['brand'] = ventas_df['brand'].str.lower()"
   ]
  },
  {
   "cell_type": "code",
   "execution_count": 24,
   "metadata": {},
   "outputs": [
    {
     "data": {
      "text/html": [
       "<div>\n",
       "<style scoped>\n",
       "    .dataframe tbody tr th:only-of-type {\n",
       "        vertical-align: middle;\n",
       "    }\n",
       "\n",
       "    .dataframe tbody tr th {\n",
       "        vertical-align: top;\n",
       "    }\n",
       "\n",
       "    .dataframe thead th {\n",
       "        text-align: right;\n",
       "    }\n",
       "</style>\n",
       "<table border=\"1\" class=\"dataframe\">\n",
       "  <thead>\n",
       "    <tr style=\"text-align: right;\">\n",
       "      <th></th>\n",
       "      <th>person</th>\n",
       "      <th>brand</th>\n",
       "      <th>ammount</th>\n",
       "    </tr>\n",
       "  </thead>\n",
       "  <tbody>\n",
       "    <tr>\n",
       "      <th>0</th>\n",
       "      <td>4200bdee</td>\n",
       "      <td>samsung</td>\n",
       "      <td>12</td>\n",
       "    </tr>\n",
       "    <tr>\n",
       "      <th>1</th>\n",
       "      <td>252adec6</td>\n",
       "      <td>motorola</td>\n",
       "      <td>12</td>\n",
       "    </tr>\n",
       "    <tr>\n",
       "      <th>2</th>\n",
       "      <td>a0d4baef</td>\n",
       "      <td>samsung</td>\n",
       "      <td>11</td>\n",
       "    </tr>\n",
       "    <tr>\n",
       "      <th>3</th>\n",
       "      <td>ba325a6b</td>\n",
       "      <td>samsung</td>\n",
       "      <td>10</td>\n",
       "    </tr>\n",
       "    <tr>\n",
       "      <th>4</th>\n",
       "      <td>a96e304b</td>\n",
       "      <td>iphone</td>\n",
       "      <td>8</td>\n",
       "    </tr>\n",
       "  </tbody>\n",
       "</table>\n",
       "</div>"
      ],
      "text/plain": [
       "     person     brand  ammount\n",
       "0  4200bdee   samsung       12\n",
       "1  252adec6  motorola       12\n",
       "2  a0d4baef   samsung       11\n",
       "3  ba325a6b   samsung       10\n",
       "4  a96e304b    iphone        8"
      ]
     },
     "execution_count": 24,
     "metadata": {},
     "output_type": "execute_result"
    }
   ],
   "source": [
    "ventas_df.head()"
   ]
  },
  {
   "cell_type": "code",
   "execution_count": 25,
   "metadata": {},
   "outputs": [],
   "source": [
    "### Hago un merge de las tablas 'ventas_df' y 'ads', para relacionar las compras de cada producto por usuario\n",
    "### con la entrada del mismo usuario a travez de una publicidad para comprar un producto de la misma marca.\n",
    "### La idea de este analisis es saber que fuene de publicidad devuelve mejor en cuanto a las ventas.\n",
    "\n",
    "### AVISO IMPORTANTE\n",
    "### Hay que tener en cuenta que si por ej 1 usuario compro 1 samsung , pero entro previamente a travez de \n",
    "### 1 publicidad de google y criteo , ambas publicidades sobre samsung, la venta se cuenta como que fue gracias\n",
    "### a ambas publicidades. Por lo tanto si sumamos la cantidad de \" ventas totales por fuente de publicidad\" \n",
    "### (2) va a ser mayor que \"las ventas totales \" (1). Lo mismo ocurre para el \"porcentaje de colavoracion \n",
    "### a las ventas\"\n",
    "\n",
    "correlacion_ventas_ads = pd.merge(ventas_df, ads,  how='left', left_on=['person','brand'], right_on = ['person','brand'])"
   ]
  },
  {
   "cell_type": "markdown",
   "metadata": {},
   "source": [
    "## CHECKING\n",
    "\n",
    "Tomo como muestra a uno de los clientes y compruebo que los datos de la tabla de correlacion son correctos\n",
    "\n",
    "### En este caso se puede ver como a pesar de que el usuario compro 12 motorolas, en la tabla de relaciones esa cantidad figura para 3 fuentes de publicidad, dado que el mismo utilizo las 3 para ver el mismo producto."
   ]
  },
  {
   "cell_type": "code",
   "execution_count": 26,
   "metadata": {},
   "outputs": [
    {
     "data": {
      "text/html": [
       "<div>\n",
       "<style scoped>\n",
       "    .dataframe tbody tr th:only-of-type {\n",
       "        vertical-align: middle;\n",
       "    }\n",
       "\n",
       "    .dataframe tbody tr th {\n",
       "        vertical-align: top;\n",
       "    }\n",
       "\n",
       "    .dataframe thead th {\n",
       "        text-align: right;\n",
       "    }\n",
       "</style>\n",
       "<table border=\"1\" class=\"dataframe\">\n",
       "  <thead>\n",
       "    <tr style=\"text-align: right;\">\n",
       "      <th></th>\n",
       "      <th>person</th>\n",
       "      <th>brand</th>\n",
       "      <th>ammount</th>\n",
       "      <th>campaign_source</th>\n",
       "    </tr>\n",
       "  </thead>\n",
       "  <tbody>\n",
       "    <tr>\n",
       "      <th>1</th>\n",
       "      <td>252adec6</td>\n",
       "      <td>motorola</td>\n",
       "      <td>12</td>\n",
       "      <td>google</td>\n",
       "    </tr>\n",
       "    <tr>\n",
       "      <th>2</th>\n",
       "      <td>252adec6</td>\n",
       "      <td>motorola</td>\n",
       "      <td>12</td>\n",
       "      <td>emblue</td>\n",
       "    </tr>\n",
       "    <tr>\n",
       "      <th>3</th>\n",
       "      <td>252adec6</td>\n",
       "      <td>motorola</td>\n",
       "      <td>12</td>\n",
       "      <td>rtbhouse</td>\n",
       "    </tr>\n",
       "    <tr>\n",
       "      <th>111</th>\n",
       "      <td>252adec6</td>\n",
       "      <td>samsung</td>\n",
       "      <td>3</td>\n",
       "      <td>criteo</td>\n",
       "    </tr>\n",
       "  </tbody>\n",
       "</table>\n",
       "</div>"
      ],
      "text/plain": [
       "       person     brand  ammount campaign_source\n",
       "1    252adec6  motorola       12          google\n",
       "2    252adec6  motorola       12          emblue\n",
       "3    252adec6  motorola       12        rtbhouse\n",
       "111  252adec6   samsung        3          criteo"
      ]
     },
     "execution_count": 26,
     "metadata": {},
     "output_type": "execute_result"
    }
   ],
   "source": [
    "### correlacion entre las ventas y las fuentes de publicidad\n",
    "\n",
    "correlacion_ventas_ads[correlacion_ventas_ads['person'] == '252adec6']"
   ]
  },
  {
   "cell_type": "code",
   "execution_count": 27,
   "metadata": {},
   "outputs": [
    {
     "data": {
      "text/html": [
       "<div>\n",
       "<style scoped>\n",
       "    .dataframe tbody tr th:only-of-type {\n",
       "        vertical-align: middle;\n",
       "    }\n",
       "\n",
       "    .dataframe tbody tr th {\n",
       "        vertical-align: top;\n",
       "    }\n",
       "\n",
       "    .dataframe thead th {\n",
       "        text-align: right;\n",
       "    }\n",
       "</style>\n",
       "<table border=\"1\" class=\"dataframe\">\n",
       "  <thead>\n",
       "    <tr style=\"text-align: right;\">\n",
       "      <th></th>\n",
       "      <th>person</th>\n",
       "      <th>brand</th>\n",
       "      <th>campaign_source</th>\n",
       "    </tr>\n",
       "  </thead>\n",
       "  <tbody>\n",
       "    <tr>\n",
       "      <th>19920</th>\n",
       "      <td>252adec6</td>\n",
       "      <td>iphone</td>\n",
       "      <td>criteo</td>\n",
       "    </tr>\n",
       "    <tr>\n",
       "      <th>19921</th>\n",
       "      <td>252adec6</td>\n",
       "      <td>motorola</td>\n",
       "      <td>google</td>\n",
       "    </tr>\n",
       "    <tr>\n",
       "      <th>19922</th>\n",
       "      <td>252adec6</td>\n",
       "      <td>motorola</td>\n",
       "      <td>emblue</td>\n",
       "    </tr>\n",
       "    <tr>\n",
       "      <th>19923</th>\n",
       "      <td>252adec6</td>\n",
       "      <td>motorola</td>\n",
       "      <td>rtbhouse</td>\n",
       "    </tr>\n",
       "    <tr>\n",
       "      <th>19924</th>\n",
       "      <td>252adec6</td>\n",
       "      <td>samsung</td>\n",
       "      <td>criteo</td>\n",
       "    </tr>\n",
       "  </tbody>\n",
       "</table>\n",
       "</div>"
      ],
      "text/plain": [
       "         person     brand campaign_source\n",
       "19920  252adec6    iphone          criteo\n",
       "19921  252adec6  motorola          google\n",
       "19922  252adec6  motorola          emblue\n",
       "19923  252adec6  motorola        rtbhouse\n",
       "19924  252adec6   samsung          criteo"
      ]
     },
     "execution_count": 27,
     "metadata": {},
     "output_type": "execute_result"
    }
   ],
   "source": [
    "### Entradas del usuario a travez de publicidad\n",
    "\n",
    "ads[ads['person'] == '252adec6']"
   ]
  },
  {
   "cell_type": "code",
   "execution_count": 28,
   "metadata": {},
   "outputs": [
    {
     "data": {
      "text/html": [
       "<div>\n",
       "<style scoped>\n",
       "    .dataframe tbody tr th:only-of-type {\n",
       "        vertical-align: middle;\n",
       "    }\n",
       "\n",
       "    .dataframe tbody tr th {\n",
       "        vertical-align: top;\n",
       "    }\n",
       "\n",
       "    .dataframe thead th {\n",
       "        text-align: right;\n",
       "    }\n",
       "</style>\n",
       "<table border=\"1\" class=\"dataframe\">\n",
       "  <thead>\n",
       "    <tr style=\"text-align: right;\">\n",
       "      <th></th>\n",
       "      <th>person</th>\n",
       "      <th>brand</th>\n",
       "      <th>ammount</th>\n",
       "    </tr>\n",
       "  </thead>\n",
       "  <tbody>\n",
       "    <tr>\n",
       "      <th>1</th>\n",
       "      <td>252adec6</td>\n",
       "      <td>motorola</td>\n",
       "      <td>12</td>\n",
       "    </tr>\n",
       "    <tr>\n",
       "      <th>55</th>\n",
       "      <td>252adec6</td>\n",
       "      <td>samsung</td>\n",
       "      <td>3</td>\n",
       "    </tr>\n",
       "  </tbody>\n",
       "</table>\n",
       "</div>"
      ],
      "text/plain": [
       "      person     brand  ammount\n",
       "1   252adec6  motorola       12\n",
       "55  252adec6   samsung        3"
      ]
     },
     "execution_count": 28,
     "metadata": {},
     "output_type": "execute_result"
    }
   ],
   "source": [
    "### Compras del usuario\n",
    "\n",
    "ventas_df[ventas_df['person'] == '252adec6']"
   ]
  },
  {
   "cell_type": "markdown",
   "metadata": {},
   "source": [
    "## Analisis de la correlacion\n",
    "\n",
    "Organizo por fuentes de publicidad y con la cantidad de publicidades que terminaron que una venta, para ver cual fuente realizo la mejor devolucion."
   ]
  },
  {
   "cell_type": "code",
   "execution_count": 29,
   "metadata": {},
   "outputs": [],
   "source": [
    "ventas_totales = ventas_df['ammount'].sum()\n",
    "\n",
    "cantidadVentasPorFuente = correlacion_ventas_ads[['campaign_source','ammount']]\n",
    "cantidadVentasPorFuente = cantidadVentasPorFuente.groupby(['campaign_source']).sum().sort_values(['ammount'],ascending = False)\n",
    "cantidadVentasPorFuente['%_colaboracion_a_las_ventas'] = cantidadVentasPorFuente['ammount']*100/ventas_totales\n",
    "cantidadVentasPorFuente.columns = ['ads que vendieron','%_colaboracion_a_las_ventas']"
   ]
  },
  {
   "cell_type": "code",
   "execution_count": 50,
   "metadata": {},
   "outputs": [
    {
     "data": {
      "text/plain": [
       "Text(0,0.5,'Fuente de publicidad')"
      ]
     },
     "execution_count": 50,
     "metadata": {},
     "output_type": "execute_result"
    },
    {
     "data": {
      "image/png": "[encoded data removed]",
      "text/plain": [
       "<Figure size 432x288 with 1 Axes>"
      ]
     },
     "metadata": {
      "needs_background": "light"
     },
     "output_type": "display_data"
    }
   ],
   "source": [
    "cantidadVentasPorFuente_graf = cantidadVentasPorFuente.iloc[:15,:1].plot.barh(fontsize = 14)\n",
    "\n",
    "cantidadVentasPorFuente_graf.set_title(\"Ventas que provienen de un ad\", fontsize=18)\n",
    "cantidadVentasPorFuente_graf.set_xlabel(\"Cantidad de ventas\", fontsize=18)\n",
    "cantidadVentasPorFuente_graf.set_ylabel(\"Fuente de publicidad\", fontsize=18)"
   ]
  },
  {
   "cell_type": "markdown",
   "metadata": {},
   "source": [
    "# Porcentaje de ventas de iPhone y Samsung vs otros"
   ]
  },
  {
   "cell_type": "code",
   "execution_count": 31,
   "metadata": {},
   "outputs": [],
   "source": [
    "ventas_Motorola = ventas_A[ventas_A['model'].str.contains('Motorola')]\n",
    "porcentaje_Motorola = len(ventas_Motorola)/ventas_totales\n",
    "\n",
    "ventas_Samsung = ventas_A[ventas_A['model'].str.contains('Samsung')]\n",
    "porcentaje_Samsung = len(ventas_Samsung)/ventas_totales\n",
    "\n",
    "ventas_iPhone = ventas_A[ventas_A['model'].str.contains('iPhone')]\n",
    "porcentaje_iPhone = len(ventas_iPhone)/ventas_totales\n",
    "\n",
    "porcentaje_otros = 1-(porcentaje_Motorola + porcentaje_Samsung + porcentaje_iPhone)\n",
    "iPhone_Samsung = porcentaje_Samsung + porcentaje_iPhone"
   ]
  },
  {
   "cell_type": "code",
   "execution_count": 32,
   "metadata": {},
   "outputs": [
    {
     "data": {
      "text/html": [
       "<div>\n",
       "<style scoped>\n",
       "    .dataframe tbody tr th:only-of-type {\n",
       "        vertical-align: middle;\n",
       "    }\n",
       "\n",
       "    .dataframe tbody tr th {\n",
       "        vertical-align: top;\n",
       "    }\n",
       "\n",
       "    .dataframe thead th {\n",
       "        text-align: right;\n",
       "    }\n",
       "</style>\n",
       "<table border=\"1\" class=\"dataframe\">\n",
       "  <thead>\n",
       "    <tr style=\"text-align: right;\">\n",
       "      <th></th>\n",
       "      <th>porcentaje</th>\n",
       "    </tr>\n",
       "    <tr>\n",
       "      <th>Compañia</th>\n",
       "      <th></th>\n",
       "    </tr>\n",
       "  </thead>\n",
       "  <tbody>\n",
       "    <tr>\n",
       "      <th>Motorola</th>\n",
       "      <td>0.127133</td>\n",
       "    </tr>\n",
       "    <tr>\n",
       "      <th>iPhone+Samsung</th>\n",
       "      <td>0.822526</td>\n",
       "    </tr>\n",
       "    <tr>\n",
       "      <th>Otros</th>\n",
       "      <td>0.050341</td>\n",
       "    </tr>\n",
       "  </tbody>\n",
       "</table>\n",
       "</div>"
      ],
      "text/plain": [
       "                porcentaje\n",
       "Compañia                  \n",
       "Motorola          0.127133\n",
       "iPhone+Samsung    0.822526\n",
       "Otros             0.050341"
      ]
     },
     "execution_count": 32,
     "metadata": {},
     "output_type": "execute_result"
    }
   ],
   "source": [
    "porcentaje_ventas = pd.DataFrame(data = {'porcentaje':[porcentaje_Motorola,iPhone_Samsung,porcentaje_otros], 'Compañia':['Motorola','iPhone+Samsung','Otros'] })\n",
    "porcentaje_ventas = porcentaje_ventas.set_index('Compañia')\n",
    "porcentaje_ventas"
   ]
  },
  {
   "cell_type": "code",
   "execution_count": 33,
   "metadata": {},
   "outputs": [
    {
     "data": {
      "text/plain": [
       "Text(0,0.5,'')"
      ]
     },
     "execution_count": 33,
     "metadata": {},
     "output_type": "execute_result"
    },
    {
     "data": {
      "image/png": "[encoded data removed]",
      "text/plain": [
       "<Figure size 432x288 with 1 Axes>"
      ]
     },
     "metadata": {},
     "output_type": "display_data"
    }
   ],
   "source": [
    "brand_graf = porcentaje_ventas.plot.pie(y = 'porcentaje',fontsize= 14)\n",
    "\n",
    "\n",
    "brand_graf.set_title(\"Porcentaje de ventas por compañia\", fontsize=18)\n",
    "brand_graf.set_ylabel(\"\")"
   ]
  },
  {
   "cell_type": "markdown",
   "metadata": {},
   "source": [
    "# Analisis de frecuencia de los usuarios"
   ]
  },
  {
   "cell_type": "code",
   "execution_count": 34,
   "metadata": {},
   "outputs": [],
   "source": [
    "### DataFrames de usuarios nuevos/que volvieron\n",
    "users = df[df['new_vs_returning'].notna()].dropna(how='all',axis=1)\n",
    "new = users[users['new_vs_returning'] == 'New']\n",
    "returning = users[users['new_vs_returning'] == 'Returning']\n",
    "\n",
    "\n",
    "### cantidad de usuarios que volvieron/son nuevos\n",
    "total = len(users.groupby(['person']).count())\n",
    "new_ammount = len(new.groupby(['person']).count())\n",
    "returning_ammount = len(returning.groupby(['person']).count())"
   ]
  },
  {
   "cell_type": "markdown",
   "metadata": {},
   "source": [
    "# Paises"
   ]
  },
  {
   "cell_type": "code",
   "execution_count": 35,
   "metadata": {},
   "outputs": [
    {
     "data": {
      "text/plain": [
       "Text(0,0.5,'Eventos generados (en miles)')"
      ]
     },
     "execution_count": 35,
     "metadata": {},
     "output_type": "execute_result"
    },
    {
     "data": {
      "image/png": "[encoded data removed]",
      "text/plain": [
       "<Figure size 432x288 with 1 Axes>"
      ]
     },
     "metadata": {
      "needs_background": "light"
     },
     "output_type": "display_data"
    }
   ],
   "source": [
    "paises = df[df['country'].notna()]\n",
    "paises = paises.groupby(['country']).count().sort_values(['timestamp'],ascending = False).iloc[:,:1]\n",
    "paises.columns = ['ammount']\n",
    "paises = paises.reset_index()\n",
    "\n",
    "brazil_ammount = paises[paises['country'] == 'Brazil']['ammount'].sum()\n",
    "others = paises[paises['country'] != 'Brazil']['ammount'].sum()\n",
    "\n",
    "paises = pd.DataFrame(data={'Eventos' : [brazil_ammount/1000,others/1000], 'pais': ['brasil','otros']})\n",
    "paises = paises.set_index('pais')\n",
    "paises_graf = paises.plot.bar(fontsize = 14)\n",
    "\n",
    "paises_graf.set_title(\"Eventos generados por brazil vs otros\", fontsize=18)\n",
    "paises_graf.set_xlabel(\"Pais\", fontsize=18)\n",
    "paises_graf.set_ylabel(\"Eventos generados (en miles)\", fontsize=18)"
   ]
  },
  {
   "cell_type": "markdown",
   "metadata": {},
   "source": [
    "# Analisis de ventas moviles vs ordenadores"
   ]
  },
  {
   "cell_type": "code",
   "execution_count": 36,
   "metadata": {},
   "outputs": [],
   "source": [
    "ventas_B = df[df['event'] == 'conversion']\n",
    "compradores = ventas_B.groupby(['person']).count().iloc[:,:0]\n",
    "compradores = compradores.reset_index()"
   ]
  },
  {
   "cell_type": "code",
   "execution_count": 37,
   "metadata": {},
   "outputs": [],
   "source": [
    "usuarios_dispositivos = df[df['device_type'].notna()]\n",
    "usuarios_dispositivos = usuarios_dispositivos[['person', 'device_type','timestamp']]\n",
    "usuarios_dispositivos = usuarios_dispositivos.groupby(['person','device_type']).count()\n",
    "usuarios_dispositivos = usuarios_dispositivos.reset_index()"
   ]
  },
  {
   "cell_type": "code",
   "execution_count": 38,
   "metadata": {},
   "outputs": [],
   "source": [
    "correlacion_ventas_dispositivo = pd.merge(compradores, usuarios_dispositivos,  how='left', left_on=['person'], right_on = ['person'])"
   ]
  },
  {
   "cell_type": "code",
   "execution_count": 39,
   "metadata": {},
   "outputs": [
    {
     "data": {
      "text/plain": [
       "Text(0,0.5,'Dispositivo')"
      ]
     },
     "execution_count": 39,
     "metadata": {},
     "output_type": "execute_result"
    },
    {
     "data": {
      "image/png": "[encoded data removed]",
      "text/plain": [
       "<Figure size 432x288 with 1 Axes>"
      ]
     },
     "metadata": {
      "needs_background": "light"
     },
     "output_type": "display_data"
    }
   ],
   "source": [
    "cantidades_dispositivos = correlacion_ventas_dispositivo.groupby(['device_type']).count().iloc[:3,:1]\n",
    "cantidades_dispositivos.columns = ['compras']\n",
    "dispositivos_graf = cantidades_dispositivos.plot.barh(fontsize = 14)\n",
    "\n",
    "dispositivos_graf.set_title(\"Dispositivos usados para realizar compras\", fontsize=18)\n",
    "dispositivos_graf.set_xlabel(\"Cantidad de compras realizadas\", fontsize=18)\n",
    "dispositivos_graf.set_ylabel(\"Dispositivo\", fontsize=18)"
   ]
  },
  {
   "cell_type": "markdown",
   "metadata": {},
   "source": [
    "# Correlacion ads totales vs ads que vendieron"
   ]
  },
  {
   "cell_type": "code",
   "execution_count": 40,
   "metadata": {},
   "outputs": [],
   "source": [
    "ads_B = marketing[marketing['campaign_source'].notna()]\n",
    "ads_totales = len(ads_B)"
   ]
  },
  {
   "cell_type": "code",
   "execution_count": 41,
   "metadata": {},
   "outputs": [],
   "source": [
    "ads_all = ads_B.groupby(['campaign_source']).count().sort_values(['timestamp'], ascending=False).iloc[:,:1]\n",
    "ads_all.columns = ['total_ads']\n",
    "\n",
    "ventasPorFuente = cantidadVentasPorFuente.iloc[:,:1]\n",
    "\n",
    "ads_all['vendidos'] = ventasPorFuente"
   ]
  },
  {
   "cell_type": "code",
   "execution_count": 42,
   "metadata": {},
   "outputs": [],
   "source": [
    "ads_all['ads_que_vendieron'] = (ads_all['vendidos']/ads_all['total_ads'])*1000\n",
    "ads_all = ads_all.dropna(subset=['ads_que_vendieron'])\n",
    "ads_all['ads_totales'] = (ads_all['total_ads']/ads_totales)*100\n",
    "ads_all = ads_all.iloc[:10,2:]"
   ]
  },
  {
   "cell_type": "code",
   "execution_count": 44,
   "metadata": {},
   "outputs": [
    {
     "data": {
      "text/plain": [
       "Text(0,0.5,'Fuente de publicidad')"
      ]
     },
     "execution_count": 44,
     "metadata": {},
     "output_type": "execute_result"
    },
    {
     "data": {
      "image/png": "[encoded data removed]",
      "text/plain": [
       "<Figure size 432x288 with 1 Axes>"
      ]
     },
     "metadata": {
      "needs_background": "light"
     },
     "output_type": "display_data"
    }
   ],
   "source": [
    "ads_graf = ads_all.plot.barh(fontsize=14)\n",
    "\n",
    "ads_graf.set_title(\"Porcentaje de ads por fuente\", fontsize=18)\n",
    "ads_graf.set_xlabel(\"Porcentaje (azul escala 10:1)\", fontsize=18)\n",
    "ads_graf.set_ylabel(\"Fuente de publicidad\", fontsize=18)"
   ]
  },
  {
   "cell_type": "code",
   "execution_count": null,
   "metadata": {},
   "outputs": [],
   "source": []
  }
 ],
 "metadata": {
  "kernelspec": {
   "display_name": "Python 3",
   "language": "python",
   "name": "python3"
  },
  "language_info": {
   "codemirror_mode": {
    "name": "ipython",
    "version": 3
   },
   "file_extension": ".py",
   "mimetype": "text/x-python",
   "name": "python",
   "nbconvert_exporter": "python",
   "pygments_lexer": "ipython3",
   "version": "3.6.6"
  }
 },
 "nbformat": 4,
 "nbformat_minor": 2
}
